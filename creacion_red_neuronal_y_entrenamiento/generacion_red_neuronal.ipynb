{
 "cells": [
  {
   "cell_type": "code",
   "execution_count": 1,
   "metadata": {},
   "outputs": [],
   "source": [
    "import pandas as pd\n",
    "import numpy as np\n",
    "import tensorflow as tf\n",
    "from sklearn.model_selection import train_test_split\n",
    "import os\n"
   ]
  },
  {
   "cell_type": "code",
   "execution_count": 5,
   "metadata": {},
   "outputs": [
    {
     "name": "stdout",
     "output_type": "stream",
     "text": [
      "Carpeta actual: c:\\Users\\dgome\\OneDrive\\SIN RECUPERAR\\Sql\\Documentos\\SistemaIot\\Periferico\\modelos_entrenamiento\\vehiculo_autonomo\\test\n"
     ]
    }
   ],
   "source": [
    "try:\n",
    "    carpeta_actual = os.path.dirname(os.path.abspath(__file__))\n",
    "except NameError:\n",
    "    carpeta_actual = os.getcwd()  # Alternativa para entornos interactivos como Jupyter\n",
    "\n",
    "carpeta_actual=carpeta_actual.replace('creacion_red_neuronal_y_entrenamiento', 'datos_iniciales_del_sistema')\n",
    "print(f\"Carpeta actual: {carpeta_actual}\")\n",
    "\n"
   ]
  },
  {
   "cell_type": "code",
   "execution_count": 3,
   "metadata": {},
   "outputs": [
    {
     "name": "stdout",
     "output_type": "stream",
     "text": [
      "Archivo CSV cargado correctamente. Filas: 3737, Columnas: 8\n"
     ]
    }
   ],
   "source": [
    "\n",
    "ruta_csv = os.path.join(carpeta_actual,'tinyml_training_data_clean.csv')\n",
    "# 3. Cargar el archivo CSV\n",
    "if os.path.exists(ruta_csv):\n",
    "    try:\n",
    "        data = pd.read_csv(ruta_csv)\n",
    "        print(f\"Archivo CSV cargado correctamente. Filas: {data.shape[0]}, Columnas: {data.shape[1]}\")\n",
    "    except Exception as e:\n",
    "        print(f\"Error al cargar el archivo CSV: {e}\")\n",
    "        exit()\n",
    "else:\n",
    "    print(f\"El archivo CSV no existe: {ruta_csv}\")\n",
    "    exit()\n"
   ]
  },
  {
   "cell_type": "code",
   "execution_count": 4,
   "metadata": {},
   "outputs": [],
   "source": [
    "data = pd.read_csv(ruta_csv)\n",
    "# Verificar la existencia de las columnas necesarias\n",
    "columnas_entrada = ['distancia_izquierda', 'distancia_derecha', 'distancia_izquierda_duration', 'distancia_derecha_duration']\n",
    "columnas_salida = ['IN1', 'IN2', 'IN3', 'IN4']\n",
    "\n",
    "for columna in columnas_entrada + columnas_salida:\n",
    "    if columna not in data.columns:\n",
    "        print(f\"La columna '{columna}' no está presente en el archivo CSV.\")\n",
    "        exit()\n"
   ]
  },
  {
   "cell_type": "code",
   "execution_count": 5,
   "metadata": {},
   "outputs": [],
   "source": [
    "# Definir las entradas (X) y las salidas (y)\n",
    "X = data[columnas_entrada].values\n",
    "y = data[columnas_salida].values\n",
    "\n",
    "# Validar si hay datos faltantes\n",
    "if np.any(np.isnan(X)) or np.any(np.isnan(y)):\n",
    "    print(\"Existen valores NaN en los datos de entrada o salida. Por favor, limpie los datos.\")\n",
    "    exit()\n",
    "\n",
    "# Normalizar las entradas para evitar errores de división por cero\n",
    "X_max = np.max(X, axis=0)\n",
    "if np.any(X_max == 0):\n",
    "    print(\"Error: Algunos valores máximos de las columnas de entrada son 0, lo que causará división por cero.\")\n",
    "    exit()\n",
    "X = X / X_max  # Normalizar de 0 a 1"
   ]
  },
  {
   "cell_type": "code",
   "execution_count": 6,
   "metadata": {},
   "outputs": [
    {
     "name": "stdout",
     "output_type": "stream",
     "text": [
      "Datos divididos en entrenamiento (2989) y prueba (748).\n"
     ]
    }
   ],
   "source": [
    "# Dividir los datos en conjuntos de entrenamiento y prueba\n",
    "try:\n",
    "    X_train, X_test, y_train, y_test = train_test_split(X, y, test_size=0.2, random_state=42)\n",
    "    print(f\"Datos divididos en entrenamiento ({X_train.shape[0]}) y prueba ({X_test.shape[0]}).\")\n",
    "except Exception as e:\n",
    "    print(f\"Error al dividir los datos de entrenamiento y prueba: {e}\")\n",
    "    exit()"
   ]
  },
  {
   "cell_type": "code",
   "execution_count": 7,
   "metadata": {},
   "outputs": [],
   "source": [
    "# Crear el modelo de la red neuronal\n",
    "try:\n",
    "    input_shape = (X_train.shape[1],)  # Determinar automáticamente el número de características de entrada\n",
    "    model = tf.keras.models.Sequential([\n",
    "        tf.keras.layers.Input(shape=input_shape),        # Entrada con la forma del dataset\n",
    "        tf.keras.layers.Dense(8, activation='relu'),  # Capa oculta con 8 neuronas\n",
    "        tf.keras.layers.Dense(4, activation='sigmoid') # Cuatro salidas (para IN1, IN2, IN3, IN4)\n",
    "    ])\n",
    "except Exception as e:\n",
    "    print(f\"Error al crear el modelo de la red neuronal: {e}\")\n",
    "    exit()"
   ]
  },
  {
   "cell_type": "code",
   "execution_count": 8,
   "metadata": {},
   "outputs": [
    {
     "name": "stdout",
     "output_type": "stream",
     "text": [
      "Epoch 1/50\n",
      "\u001b[1m299/299\u001b[0m \u001b[32m━━━━━━━━━━━━━━━━━━━━\u001b[0m\u001b[37m\u001b[0m \u001b[1m1s\u001b[0m 2ms/step - accuracy: 0.1701 - loss: 0.6875 - val_accuracy: 0.1304 - val_loss: 0.6530\n",
      "Epoch 2/50\n",
      "\u001b[1m299/299\u001b[0m \u001b[32m━━━━━━━━━━━━━━━━━━━━\u001b[0m\u001b[37m\u001b[0m \u001b[1m0s\u001b[0m 1ms/step - accuracy: 0.1461 - loss: 0.6506 - val_accuracy: 0.1221 - val_loss: 0.6415\n",
      "Epoch 3/50\n",
      "\u001b[1m299/299\u001b[0m \u001b[32m━━━━━━━━━━━━━━━━━━━━\u001b[0m\u001b[37m\u001b[0m \u001b[1m0s\u001b[0m 1ms/step - accuracy: 0.1534 - loss: 0.6444 - val_accuracy: 0.1572 - val_loss: 0.6333\n",
      "Epoch 4/50\n",
      "\u001b[1m299/299\u001b[0m \u001b[32m━━━━━━━━━━━━━━━━━━━━\u001b[0m\u001b[37m\u001b[0m \u001b[1m0s\u001b[0m 1ms/step - accuracy: 0.1807 - loss: 0.6310 - val_accuracy: 0.1906 - val_loss: 0.6272\n",
      "Epoch 5/50\n",
      "\u001b[1m299/299\u001b[0m \u001b[32m━━━━━━━━━━━━━━━━━━━━\u001b[0m\u001b[37m\u001b[0m \u001b[1m0s\u001b[0m 1ms/step - accuracy: 0.2357 - loss: 0.6236 - val_accuracy: 0.2274 - val_loss: 0.6215\n",
      "Epoch 6/50\n",
      "\u001b[1m299/299\u001b[0m \u001b[32m━━━━━━━━━━━━━━━━━━━━\u001b[0m\u001b[37m\u001b[0m \u001b[1m0s\u001b[0m 1ms/step - accuracy: 0.2260 - loss: 0.6191 - val_accuracy: 0.3579 - val_loss: 0.6155\n",
      "Epoch 7/50\n",
      "\u001b[1m299/299\u001b[0m \u001b[32m━━━━━━━━━━━━━━━━━━━━\u001b[0m\u001b[37m\u001b[0m \u001b[1m0s\u001b[0m 1ms/step - accuracy: 0.3441 - loss: 0.6171 - val_accuracy: 0.3579 - val_loss: 0.6114\n",
      "Epoch 8/50\n",
      "\u001b[1m299/299\u001b[0m \u001b[32m━━━━━━━━━━━━━━━━━━━━\u001b[0m\u001b[37m\u001b[0m \u001b[1m0s\u001b[0m 1ms/step - accuracy: 0.3574 - loss: 0.6071 - val_accuracy: 0.3478 - val_loss: 0.6069\n",
      "Epoch 9/50\n",
      "\u001b[1m299/299\u001b[0m \u001b[32m━━━━━━━━━━━━━━━━━━━━\u001b[0m\u001b[37m\u001b[0m \u001b[1m0s\u001b[0m 1ms/step - accuracy: 0.3551 - loss: 0.6037 - val_accuracy: 0.3729 - val_loss: 0.6038\n",
      "Epoch 10/50\n",
      "\u001b[1m299/299\u001b[0m \u001b[32m━━━━━━━━━━━━━━━━━━━━\u001b[0m\u001b[37m\u001b[0m \u001b[1m0s\u001b[0m 1ms/step - accuracy: 0.3756 - loss: 0.6010 - val_accuracy: 0.3645 - val_loss: 0.6010\n",
      "Epoch 11/50\n",
      "\u001b[1m299/299\u001b[0m \u001b[32m━━━━━━━━━━━━━━━━━━━━\u001b[0m\u001b[37m\u001b[0m \u001b[1m0s\u001b[0m 1ms/step - accuracy: 0.3535 - loss: 0.5969 - val_accuracy: 0.4080 - val_loss: 0.5986\n",
      "Epoch 12/50\n",
      "\u001b[1m299/299\u001b[0m \u001b[32m━━━━━━━━━━━━━━━━━━━━\u001b[0m\u001b[37m\u001b[0m \u001b[1m0s\u001b[0m 1ms/step - accuracy: 0.3958 - loss: 0.5982 - val_accuracy: 0.3779 - val_loss: 0.5970\n",
      "Epoch 13/50\n",
      "\u001b[1m299/299\u001b[0m \u001b[32m━━━━━━━━━━━━━━━━━━━━\u001b[0m\u001b[37m\u001b[0m \u001b[1m0s\u001b[0m 1ms/step - accuracy: 0.3788 - loss: 0.5985 - val_accuracy: 0.4030 - val_loss: 0.5954\n",
      "Epoch 14/50\n",
      "\u001b[1m299/299\u001b[0m \u001b[32m━━━━━━━━━━━━━━━━━━━━\u001b[0m\u001b[37m\u001b[0m \u001b[1m0s\u001b[0m 1ms/step - accuracy: 0.3716 - loss: 0.5994 - val_accuracy: 0.4080 - val_loss: 0.5940\n",
      "Epoch 15/50\n",
      "\u001b[1m299/299\u001b[0m \u001b[32m━━━━━━━━━━━━━━━━━━━━\u001b[0m\u001b[37m\u001b[0m \u001b[1m0s\u001b[0m 1ms/step - accuracy: 0.3988 - loss: 0.5898 - val_accuracy: 0.4097 - val_loss: 0.5928\n",
      "Epoch 16/50\n",
      "\u001b[1m299/299\u001b[0m \u001b[32m━━━━━━━━━━━━━━━━━━━━\u001b[0m\u001b[37m\u001b[0m \u001b[1m0s\u001b[0m 1ms/step - accuracy: 0.3974 - loss: 0.5877 - val_accuracy: 0.4013 - val_loss: 0.5920\n",
      "Epoch 17/50\n",
      "\u001b[1m299/299\u001b[0m \u001b[32m━━━━━━━━━━━━━━━━━━━━\u001b[0m\u001b[37m\u001b[0m \u001b[1m0s\u001b[0m 1ms/step - accuracy: 0.3929 - loss: 0.5892 - val_accuracy: 0.4047 - val_loss: 0.5907\n",
      "Epoch 18/50\n",
      "\u001b[1m299/299\u001b[0m \u001b[32m━━━━━━━━━━━━━━━━━━━━\u001b[0m\u001b[37m\u001b[0m \u001b[1m0s\u001b[0m 1ms/step - accuracy: 0.3978 - loss: 0.6018 - val_accuracy: 0.4047 - val_loss: 0.5893\n",
      "Epoch 19/50\n",
      "\u001b[1m299/299\u001b[0m \u001b[32m━━━━━━━━━━━━━━━━━━━━\u001b[0m\u001b[37m\u001b[0m \u001b[1m0s\u001b[0m 1ms/step - accuracy: 0.4270 - loss: 0.5893 - val_accuracy: 0.4114 - val_loss: 0.5885\n",
      "Epoch 20/50\n",
      "\u001b[1m299/299\u001b[0m \u001b[32m━━━━━━━━━━━━━━━━━━━━\u001b[0m\u001b[37m\u001b[0m \u001b[1m0s\u001b[0m 1ms/step - accuracy: 0.4184 - loss: 0.5872 - val_accuracy: 0.4130 - val_loss: 0.5870\n",
      "Epoch 21/50\n",
      "\u001b[1m299/299\u001b[0m \u001b[32m━━━━━━━━━━━━━━━━━━━━\u001b[0m\u001b[37m\u001b[0m \u001b[1m0s\u001b[0m 1ms/step - accuracy: 0.4351 - loss: 0.5913 - val_accuracy: 0.4097 - val_loss: 0.5857\n",
      "Epoch 22/50\n",
      "\u001b[1m299/299\u001b[0m \u001b[32m━━━━━━━━━━━━━━━━━━━━\u001b[0m\u001b[37m\u001b[0m \u001b[1m0s\u001b[0m 1ms/step - accuracy: 0.4034 - loss: 0.5772 - val_accuracy: 0.4181 - val_loss: 0.5842\n",
      "Epoch 23/50\n",
      "\u001b[1m299/299\u001b[0m \u001b[32m━━━━━━━━━━━━━━━━━━━━\u001b[0m\u001b[37m\u001b[0m \u001b[1m0s\u001b[0m 1ms/step - accuracy: 0.4229 - loss: 0.5864 - val_accuracy: 0.4298 - val_loss: 0.5828\n",
      "Epoch 24/50\n",
      "\u001b[1m299/299\u001b[0m \u001b[32m━━━━━━━━━━━━━━━━━━━━\u001b[0m\u001b[37m\u001b[0m \u001b[1m0s\u001b[0m 1ms/step - accuracy: 0.4227 - loss: 0.5852 - val_accuracy: 0.4398 - val_loss: 0.5813\n",
      "Epoch 25/50\n",
      "\u001b[1m299/299\u001b[0m \u001b[32m━━━━━━━━━━━━━━━━━━━━\u001b[0m\u001b[37m\u001b[0m \u001b[1m0s\u001b[0m 1ms/step - accuracy: 0.4367 - loss: 0.5873 - val_accuracy: 0.4482 - val_loss: 0.5801\n",
      "Epoch 26/50\n",
      "\u001b[1m299/299\u001b[0m \u001b[32m━━━━━━━━━━━━━━━━━━━━\u001b[0m\u001b[37m\u001b[0m \u001b[1m0s\u001b[0m 1ms/step - accuracy: 0.4310 - loss: 0.5807 - val_accuracy: 0.4515 - val_loss: 0.5786\n",
      "Epoch 27/50\n",
      "\u001b[1m299/299\u001b[0m \u001b[32m━━━━━━━━━━━━━━━━━━━━\u001b[0m\u001b[37m\u001b[0m \u001b[1m0s\u001b[0m 1ms/step - accuracy: 0.4358 - loss: 0.5848 - val_accuracy: 0.4515 - val_loss: 0.5777\n",
      "Epoch 28/50\n",
      "\u001b[1m299/299\u001b[0m \u001b[32m━━━━━━━━━━━━━━━━━━━━\u001b[0m\u001b[37m\u001b[0m \u001b[1m0s\u001b[0m 1ms/step - accuracy: 0.4407 - loss: 0.5762 - val_accuracy: 0.4448 - val_loss: 0.5767\n",
      "Epoch 29/50\n",
      "\u001b[1m299/299\u001b[0m \u001b[32m━━━━━━━━━━━━━━━━━━━━\u001b[0m\u001b[37m\u001b[0m \u001b[1m0s\u001b[0m 1ms/step - accuracy: 0.4609 - loss: 0.5707 - val_accuracy: 0.4398 - val_loss: 0.5757\n",
      "Epoch 30/50\n",
      "\u001b[1m299/299\u001b[0m \u001b[32m━━━━━━━━━━━━━━━━━━━━\u001b[0m\u001b[37m\u001b[0m \u001b[1m0s\u001b[0m 1ms/step - accuracy: 0.4442 - loss: 0.5786 - val_accuracy: 0.4448 - val_loss: 0.5747\n",
      "Epoch 31/50\n",
      "\u001b[1m299/299\u001b[0m \u001b[32m━━━━━━━━━━━━━━━━━━━━\u001b[0m\u001b[37m\u001b[0m \u001b[1m0s\u001b[0m 1ms/step - accuracy: 0.4519 - loss: 0.5787 - val_accuracy: 0.4431 - val_loss: 0.5743\n",
      "Epoch 32/50\n",
      "\u001b[1m299/299\u001b[0m \u001b[32m━━━━━━━━━━━━━━━━━━━━\u001b[0m\u001b[37m\u001b[0m \u001b[1m0s\u001b[0m 1ms/step - accuracy: 0.4290 - loss: 0.5675 - val_accuracy: 0.4498 - val_loss: 0.5727\n",
      "Epoch 33/50\n",
      "\u001b[1m299/299\u001b[0m \u001b[32m━━━━━━━━━━━━━━━━━━━━\u001b[0m\u001b[37m\u001b[0m \u001b[1m0s\u001b[0m 1ms/step - accuracy: 0.4539 - loss: 0.5775 - val_accuracy: 0.4482 - val_loss: 0.5717\n",
      "Epoch 34/50\n",
      "\u001b[1m299/299\u001b[0m \u001b[32m━━━━━━━━━━━━━━━━━━━━\u001b[0m\u001b[37m\u001b[0m \u001b[1m0s\u001b[0m 1ms/step - accuracy: 0.4694 - loss: 0.5684 - val_accuracy: 0.4448 - val_loss: 0.5707\n",
      "Epoch 35/50\n",
      "\u001b[1m299/299\u001b[0m \u001b[32m━━━━━━━━━━━━━━━━━━━━\u001b[0m\u001b[37m\u001b[0m \u001b[1m0s\u001b[0m 1ms/step - accuracy: 0.4673 - loss: 0.5798 - val_accuracy: 0.4431 - val_loss: 0.5699\n",
      "Epoch 36/50\n",
      "\u001b[1m299/299\u001b[0m \u001b[32m━━━━━━━━━━━━━━━━━━━━\u001b[0m\u001b[37m\u001b[0m \u001b[1m0s\u001b[0m 1ms/step - accuracy: 0.4581 - loss: 0.5698 - val_accuracy: 0.4465 - val_loss: 0.5694\n",
      "Epoch 37/50\n",
      "\u001b[1m299/299\u001b[0m \u001b[32m━━━━━━━━━━━━━━━━━━━━\u001b[0m\u001b[37m\u001b[0m \u001b[1m0s\u001b[0m 1ms/step - accuracy: 0.4517 - loss: 0.5740 - val_accuracy: 0.4498 - val_loss: 0.5681\n",
      "Epoch 38/50\n",
      "\u001b[1m299/299\u001b[0m \u001b[32m━━━━━━━━━━━━━━━━━━━━\u001b[0m\u001b[37m\u001b[0m \u001b[1m0s\u001b[0m 1ms/step - accuracy: 0.4546 - loss: 0.5681 - val_accuracy: 0.4548 - val_loss: 0.5674\n",
      "Epoch 39/50\n",
      "\u001b[1m299/299\u001b[0m \u001b[32m━━━━━━━━━━━━━━━━━━━━\u001b[0m\u001b[37m\u001b[0m \u001b[1m0s\u001b[0m 1ms/step - accuracy: 0.4631 - loss: 0.5722 - val_accuracy: 0.4532 - val_loss: 0.5669\n",
      "Epoch 40/50\n",
      "\u001b[1m299/299\u001b[0m \u001b[32m━━━━━━━━━━━━━━━━━━━━\u001b[0m\u001b[37m\u001b[0m \u001b[1m0s\u001b[0m 1ms/step - accuracy: 0.4578 - loss: 0.5647 - val_accuracy: 0.4498 - val_loss: 0.5667\n",
      "Epoch 41/50\n",
      "\u001b[1m299/299\u001b[0m \u001b[32m━━━━━━━━━━━━━━━━━━━━\u001b[0m\u001b[37m\u001b[0m \u001b[1m0s\u001b[0m 1ms/step - accuracy: 0.4598 - loss: 0.5581 - val_accuracy: 0.4582 - val_loss: 0.5654\n",
      "Epoch 42/50\n",
      "\u001b[1m299/299\u001b[0m \u001b[32m━━━━━━━━━━━━━━━━━━━━\u001b[0m\u001b[37m\u001b[0m \u001b[1m0s\u001b[0m 1ms/step - accuracy: 0.4586 - loss: 0.5628 - val_accuracy: 0.4632 - val_loss: 0.5649\n",
      "Epoch 43/50\n",
      "\u001b[1m299/299\u001b[0m \u001b[32m━━━━━━━━━━━━━━━━━━━━\u001b[0m\u001b[37m\u001b[0m \u001b[1m0s\u001b[0m 1ms/step - accuracy: 0.4638 - loss: 0.5685 - val_accuracy: 0.4632 - val_loss: 0.5647\n",
      "Epoch 44/50\n",
      "\u001b[1m299/299\u001b[0m \u001b[32m━━━━━━━━━━━━━━━━━━━━\u001b[0m\u001b[37m\u001b[0m \u001b[1m0s\u001b[0m 1ms/step - accuracy: 0.4593 - loss: 0.5633 - val_accuracy: 0.4548 - val_loss: 0.5637\n",
      "Epoch 45/50\n",
      "\u001b[1m299/299\u001b[0m \u001b[32m━━━━━━━━━━━━━━━━━━━━\u001b[0m\u001b[37m\u001b[0m \u001b[1m0s\u001b[0m 1ms/step - accuracy: 0.4403 - loss: 0.5613 - val_accuracy: 0.4649 - val_loss: 0.5631\n",
      "Epoch 46/50\n",
      "\u001b[1m299/299\u001b[0m \u001b[32m━━━━━━━━━━━━━━━━━━━━\u001b[0m\u001b[37m\u001b[0m \u001b[1m0s\u001b[0m 1ms/step - accuracy: 0.4743 - loss: 0.5592 - val_accuracy: 0.4632 - val_loss: 0.5628\n",
      "Epoch 47/50\n",
      "\u001b[1m299/299\u001b[0m \u001b[32m━━━━━━━━━━━━━━━━━━━━\u001b[0m\u001b[37m\u001b[0m \u001b[1m0s\u001b[0m 1ms/step - accuracy: 0.4467 - loss: 0.5654 - val_accuracy: 0.4632 - val_loss: 0.5624\n",
      "Epoch 48/50\n",
      "\u001b[1m299/299\u001b[0m \u001b[32m━━━━━━━━━━━━━━━━━━━━\u001b[0m\u001b[37m\u001b[0m \u001b[1m0s\u001b[0m 1ms/step - accuracy: 0.4387 - loss: 0.5620 - val_accuracy: 0.4732 - val_loss: 0.5619\n",
      "Epoch 49/50\n",
      "\u001b[1m299/299\u001b[0m \u001b[32m━━━━━━━━━━━━━━━━━━━━\u001b[0m\u001b[37m\u001b[0m \u001b[1m0s\u001b[0m 1ms/step - accuracy: 0.4828 - loss: 0.5619 - val_accuracy: 0.4716 - val_loss: 0.5615\n",
      "Epoch 50/50\n",
      "\u001b[1m299/299\u001b[0m \u001b[32m━━━━━━━━━━━━━━━━━━━━\u001b[0m\u001b[37m\u001b[0m \u001b[1m0s\u001b[0m 1ms/step - accuracy: 0.4629 - loss: 0.5681 - val_accuracy: 0.4632 - val_loss: 0.5630\n",
      "Entrenamiento completado.\n"
     ]
    }
   ],
   "source": [
    "# Compilar el modelo\n",
    "try:\n",
    "    model.compile(optimizer='adam', loss='binary_crossentropy', metrics=['accuracy'])\n",
    "except Exception as e:\n",
    "    print(f\"Error al compilar el modelo: {e}\")\n",
    "    exit()\n",
    "# Entrenar el modelo\n",
    "try:\n",
    "    history = model.fit(X_train, y_train, epochs=50, batch_size=8, validation_split=0.2, verbose=1)\n",
    "    print(\"Entrenamiento completado.\")\n",
    "except Exception as e:\n",
    "    print(f\"Error durante el entrenamiento del modelo: {e}\")\n",
    "    exit()"
   ]
  },
  {
   "cell_type": "code",
   "execution_count": 9,
   "metadata": {},
   "outputs": [
    {
     "name": "stdout",
     "output_type": "stream",
     "text": [
      "24/24 - 0s - 2ms/step - accuracy: 0.4853 - loss: 0.5622\n",
      "Pérdida de prueba: 0.5622, Precisión de prueba: 0.4853\n"
     ]
    }
   ],
   "source": [
    "# Evaluar el modelo con los datos de prueba\n",
    "try:\n",
    "    test_loss, test_accuracy = model.evaluate(X_test, y_test, verbose=2)\n",
    "    print(f'Pérdida de prueba: {test_loss:.4f}, Precisión de prueba: {test_accuracy:.4f}')\n",
    "except Exception as e:\n",
    "    print(f\"Error al evaluar el modelo: {e}\")\n",
    "    exit()"
   ]
  },
  {
   "cell_type": "code",
   "execution_count": 10,
   "metadata": {},
   "outputs": [
    {
     "name": "stdout",
     "output_type": "stream",
     "text": [
      "Archivo de pesos generado exitosamente en: c:\\Users\\dgome\\OneDrive\\SIN RECUPERAR\\Sql\\Documentos\\SistemaIot\\Periferico\\modelos_entrenamiento\\vehiculo_autonomo\\pesos_red_neuronal.h\n"
     ]
    }
   ],
   "source": [
    "# Generar el archivo de cabecera (.h) para los pesos y sesgos\n",
    "ruta_h = os.path.join(carpeta_actual, 'pesos_red_neuronal.h')\n",
    "\n",
    "try:\n",
    "    with open(ruta_h, 'w') as archivo_h:\n",
    "        archivo_h.write(\"#ifndef PESOS_RED_NEURONAL_H\\n\")\n",
    "        archivo_h.write(\"#define PESOS_RED_NEURONAL_H\\n\\n\")\n",
    "        \n",
    "        for i, layer in enumerate(model.layers):\n",
    "            try:\n",
    "                weights, biases = layer.get_weights()\n",
    "                \n",
    "                archivo_h.write(f\"// Pesos de la capa {i}\\n\")\n",
    "                archivo_h.write(f\"static const float PESOS_CAPA_{i}[] = {{\\n\")\n",
    "                \n",
    "                flat_weights = weights.flatten()\n",
    "                archivo_h.write(\", \".join([f\"{w:.6f}\" for w in flat_weights]))\n",
    "                archivo_h.write(\"\\n};\\n\\n\")\n",
    "                \n",
    "                archivo_h.write(f\"// Sesgos de la capa {i}\\n\")\n",
    "                archivo_h.write(f\"static const float SESGOS_CAPA_{i}[] = {{\\n\")\n",
    "                archivo_h.write(\", \".join([f\"{b:.6f}\" for b in biases]))\n",
    "                archivo_h.write(\"\\n};\\n\\n\")\n",
    "                \n",
    "            except Exception as e:\n",
    "                print(f\"Error al obtener los pesos y sesgos de la capa {i}: {e}\")\n",
    "        \n",
    "        archivo_h.write(\"#endif // PESOS_RED_NEURONAL_H\\n\")\n",
    "        print(f\"Archivo de pesos generado exitosamente en: {ruta_h}\")\n",
    "except Exception as e:\n",
    "    print(f\"Error al escribir el archivo de pesos: {e}\")\n",
    "    exit()\n"
   ]
  }
 ],
 "metadata": {
  "kernelspec": {
   "display_name": "Python 3",
   "language": "python",
   "name": "python3"
  },
  "language_info": {
   "codemirror_mode": {
    "name": "ipython",
    "version": 3
   },
   "file_extension": ".py",
   "mimetype": "text/x-python",
   "name": "python",
   "nbconvert_exporter": "python",
   "pygments_lexer": "ipython3",
   "version": "3.12.8"
  }
 },
 "nbformat": 4,
 "nbformat_minor": 2
}
